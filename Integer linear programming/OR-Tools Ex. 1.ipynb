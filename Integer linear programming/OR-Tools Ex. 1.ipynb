{
 "cells": [
  {
   "cell_type": "code",
   "execution_count": 1,
   "id": "26e10a52",
   "metadata": {},
   "outputs": [],
   "source": [
    "from ortools.linear_solver import pywraplp\n",
    "import matplotlib.pyplot as plt\n",
    "import numpy as np\n",
    "from collections import defaultdict"
   ]
  },
  {
   "cell_type": "markdown",
   "id": "2a2c7b68",
   "metadata": {},
   "source": [
    "# Example 1\n",
    "From OR-tools https://developers.google.com/optimization/mip/mip_example \\\n",
    "Maximize $x + 10y$ with following constraints:\\\n",
    "$x + 7y \\leq 17.5$\\\n",
    "$0 \\leq x \\leq 3.5$\\\n",
    "$0 \\leq y$\\\n",
    "$x, y$ integers"
   ]
  },
  {
   "cell_type": "code",
   "execution_count": 2,
   "id": "f3565dc3",
   "metadata": {},
   "outputs": [],
   "source": [
    "def f(x_arr, y_arr):\n",
    "    return x + 7*y - 17.5\n",
    "x_arr = np.array([0,1,2,3])\n",
    "y_arr = np.arange(0, 4, 1)"
   ]
  },
  {
   "cell_type": "code",
   "execution_count": 3,
   "id": "2be47922",
   "metadata": {},
   "outputs": [],
   "source": [
    "xv, yv = np.meshgrid(x_arr,y_arr)"
   ]
  },
  {
   "cell_type": "markdown",
   "id": "d405cf63",
   "metadata": {},
   "source": [
    "Plot possible solutions; all the possible points (x,y)\\\n",
    "Plot the constraints:\n",
    "y = 17.5/7 - x/7"
   ]
  },
  {
   "cell_type": "code",
   "execution_count": 4,
   "id": "8ec0e0c9",
   "metadata": {},
   "outputs": [],
   "source": [
    "def g(x):\n",
    "    return 17.5/7 -x/7\n",
    "xx = np.arange(0, 3.5 + 0.1, 0.1)\n",
    "yy = g(xx)"
   ]
  },
  {
   "cell_type": "code",
   "execution_count": 5,
   "id": "784d2c1e",
   "metadata": {},
   "outputs": [
    {
     "data": {
      "text/plain": [
       "<matplotlib.collections.LineCollection at 0x157431b8ca0>"
      ]
     },
     "execution_count": 5,
     "metadata": {},
     "output_type": "execute_result"
    },
    {
     "data": {
      "image/png": "[encoded data removed]",
      "text/plain": [
       "<Figure size 576x360 with 1 Axes>"
      ]
     },
     "metadata": {
      "needs_background": "light"
     },
     "output_type": "display_data"
    }
   ],
   "source": [
    "# The solution is inside the blue box and on its boundaries\n",
    "plt.figure(figsize=(8,5))\n",
    "plt.plot(xv, yv, marker = 'o', color = 'k', linestyle = 'none')\n",
    "plt.plot(xx,yy)\n",
    "plt.hlines(0, 0, 3.5)\n",
    "plt.vlines(0, 0, 2.5)\n",
    "plt.vlines(3.5, 0, np.min(yy))"
   ]
  },
  {
   "cell_type": "code",
   "execution_count": 6,
   "id": "489d5bec",
   "metadata": {},
   "outputs": [],
   "source": [
    "solver = pywraplp.Solver.CreateSolver(\"SAT\")"
   ]
  },
  {
   "cell_type": "code",
   "execution_count": 7,
   "id": "dadc9c32",
   "metadata": {},
   "outputs": [],
   "source": [
    "infinity = solver.infinity()\n",
    "x = solver.IntVar(0, infinity, \"x\") #Integer variable vary from 0 (then why float 0.0?) to infinity\n",
    "y = solver.IntVar(0, infinity, \"y\")"
   ]
  },
  {
   "cell_type": "code",
   "execution_count": 8,
   "id": "2bea51eb",
   "metadata": {},
   "outputs": [
    {
     "data": {
      "text/plain": [
       "<ortools.linear_solver.pywraplp.Constraint; proxy of <Swig Object of type 'operations_research::MPConstraint *' at 0x000001573ADD36C0> >"
      ]
     },
     "execution_count": 8,
     "metadata": {},
     "output_type": "execute_result"
    }
   ],
   "source": [
    "# Constraints\n",
    "solver.Add(x + 7*y <= 17.5)\n",
    "solver.Add(x <= 3.5)"
   ]
  },
  {
   "cell_type": "code",
   "execution_count": 9,
   "id": "07a9c54f",
   "metadata": {},
   "outputs": [],
   "source": [
    "# Maximize objective function\n",
    "solver.Maximize(x + 10*y)"
   ]
  },
  {
   "cell_type": "code",
   "execution_count": 10,
   "id": "b79e661b",
   "metadata": {},
   "outputs": [],
   "source": [
    "status = solver.Solve()"
   ]
  },
  {
   "cell_type": "code",
   "execution_count": 11,
   "id": "a3b49e85",
   "metadata": {},
   "outputs": [
    {
     "data": {
      "text/plain": [
       "23.0"
      ]
     },
     "execution_count": 11,
     "metadata": {},
     "output_type": "execute_result"
    }
   ],
   "source": [
    "solver.Objective().Value()"
   ]
  },
  {
   "cell_type": "code",
   "execution_count": 12,
   "id": "1143fbef",
   "metadata": {},
   "outputs": [
    {
     "name": "stdout",
     "output_type": "stream",
     "text": [
      "3.0\n",
      "2.0\n"
     ]
    }
   ],
   "source": [
    "# Solution\n",
    "print(x.solution_value())\n",
    "print(y.solution_value())"
   ]
  },
  {
   "cell_type": "markdown",
   "id": "ae544d88",
   "metadata": {},
   "source": [
    "# Linear optimization of the same problem"
   ]
  },
  {
   "cell_type": "code",
   "execution_count": 13,
   "id": "93ff09d9",
   "metadata": {},
   "outputs": [],
   "source": [
    "solver = pywraplp.Solver.CreateSolver(\"GLOP\") # Linear programming solver GLOP"
   ]
  },
  {
   "cell_type": "code",
   "execution_count": 14,
   "id": "ba6ee0fc",
   "metadata": {},
   "outputs": [],
   "source": [
    "x = solver.NumVar(0.0, infinity, \"x\") # continuous variables\n",
    "y = solver.NumVar(0.0, infinity, \"y\")"
   ]
  },
  {
   "cell_type": "code",
   "execution_count": 15,
   "id": "4cc5baa2",
   "metadata": {},
   "outputs": [
    {
     "data": {
      "text/plain": [
       "<ortools.linear_solver.pywraplp.Constraint; proxy of <Swig Object of type 'operations_research::MPConstraint *' at 0x000001574527CE70> >"
      ]
     },
     "execution_count": 15,
     "metadata": {},
     "output_type": "execute_result"
    }
   ],
   "source": [
    "# Constraints\n",
    "solver.Add(x + 7*y <= 17.5)\n",
    "solver.Add(x <= 3.5)"
   ]
  },
  {
   "cell_type": "code",
   "execution_count": 16,
   "id": "821ee96b",
   "metadata": {},
   "outputs": [],
   "source": [
    "solver.Maximize(x + 10*y)"
   ]
  },
  {
   "cell_type": "code",
   "execution_count": 17,
   "id": "d3a59072",
   "metadata": {},
   "outputs": [],
   "source": [
    "status = solver.Solve()"
   ]
  },
  {
   "cell_type": "code",
   "execution_count": 18,
   "id": "e7325371",
   "metadata": {},
   "outputs": [
    {
     "data": {
      "text/plain": [
       "25.0"
      ]
     },
     "execution_count": 18,
     "metadata": {},
     "output_type": "execute_result"
    }
   ],
   "source": [
    "solver.Objective().Value()"
   ]
  },
  {
   "cell_type": "code",
   "execution_count": 19,
   "id": "f22e4591",
   "metadata": {},
   "outputs": [
    {
     "name": "stdout",
     "output_type": "stream",
     "text": [
      "0.0\n",
      "2.5\n"
     ]
    }
   ],
   "source": [
    "print(x.solution_value())\n",
    "print(y.solution_value())"
   ]
  },
  {
   "cell_type": "code",
   "execution_count": 20,
   "id": "1bae0fb8",
   "metadata": {},
   "outputs": [
    {
     "name": "stdout",
     "output_type": "stream",
     "text": [
      "Solution:\n",
      "Objective value = 25.0\n",
      "x = 0.0\n",
      "y = 2.5\n"
     ]
    }
   ],
   "source": [
    "if status == pywraplp.Solver.OPTIMAL:\n",
    "    print(\"Solution:\")\n",
    "    print(\"Objective value =\", solver.Objective().Value())\n",
    "    print(\"x =\", x.solution_value())\n",
    "    print(\"y =\", y.solution_value())\n",
    "else:\n",
    "    print(\"The problem does not have an optimal solution.\")"
   ]
  },
  {
   "cell_type": "code",
   "execution_count": 25,
   "id": "f542936b",
   "metadata": {},
   "outputs": [
    {
     "data": {
      "image/png": "[encoded data removed]",
      "text/plain": [
       "<Figure size 576x360 with 1 Axes>"
      ]
     },
     "metadata": {
      "needs_background": "light"
     },
     "output_type": "display_data"
    }
   ],
   "source": [
    "# The solution is inside the blue box and on its boundaries\n",
    "plt.figure(figsize=(8,5))\n",
    "plt.plot(xv, yv, marker = 'o', color = 'k', linestyle = 'none')\n",
    "plt.plot(xx,yy)\n",
    "plt.hlines(0, 0, 3.5)\n",
    "plt.vlines(0, 0, 2.5)\n",
    "plt.vlines(3.5, 0, np.min(yy))\n",
    "plt.plot(3,2, 'ro', label = \"IP\")\n",
    "plt.plot(0,2.5, 'go', label = \"LP\")\n",
    "plt.title(\"Integer (IP) vs linear (LP) solution\")\n",
    "plt.legend()\n",
    "# plt.savefig('optimization.jpg', dpi = 300, bbox_inches='tight')"
   ]
  },
  {
   "cell_type": "code",
   "execution_count": null,
   "id": "8132eb8c",
   "metadata": {},
   "outputs": [],
   "source": []
  }
 ],
 "metadata": {
  "kernelspec": {
   "display_name": "Python 3",
   "language": "python",
   "name": "python3"
  },
  "language_info": {
   "codemirror_mode": {
    "name": "ipython",
    "version": 3
   },
   "file_extension": ".py",
   "mimetype": "text/x-python",
   "name": "python",
   "nbconvert_exporter": "python",
   "pygments_lexer": "ipython3",
   "version": "3.9.12"
  }
 },
 "nbformat": 4,
 "nbformat_minor": 5
}

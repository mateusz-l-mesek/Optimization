{
 "cells": [
  {
   "cell_type": "code",
   "execution_count": 1,
   "id": "a914a747",
   "metadata": {},
   "outputs": [
    {
     "name": "stderr",
     "output_type": "stream",
     "text": [
      "C:\\Users\\mesek\\anaconda3\\lib\\site-packages\\pandas\\core\\computation\\expressions.py:21: UserWarning: Pandas requires version '2.8.4' or newer of 'numexpr' (version '2.8.1' currently installed).\n",
      "  from pandas.core.computation.check import NUMEXPR_INSTALLED\n",
      "C:\\Users\\mesek\\anaconda3\\lib\\site-packages\\pandas\\core\\arrays\\masked.py:60: UserWarning: Pandas requires version '1.3.6' or newer of 'bottleneck' (version '1.3.4' currently installed).\n",
      "  from pandas.core import (\n"
     ]
    }
   ],
   "source": [
    "from ortools.linear_solver import pywraplp\n",
    "import numpy as np\n",
    "import pandas as pd"
   ]
  },
  {
   "cell_type": "markdown",
   "id": "54a5cf47",
   "metadata": {},
   "source": [
    "# Example 2\n",
    "Maximize $7x_1 + 8x_2 + 2x_3 + 9x_4 + 6x_5$ with following constraints:\\\n",
    "$5x_1 + 7x_2 + 9x_3 + 2x_4 + x_5 \\leq 250$ \\\n",
    "$18x_1 +4x_2 - 9x_3 + 10x_4 + 12x_5 \\leq 285 $ \\\n",
    "$4x_1 + 7x_2 + 3x_3 + 8x_4 + 5x_5 \\leq 211$ \\\n",
    "$ 5x_1 +13x_2 + 16x_3 + 3x_4 -7x_5 \\leq 312$ \\\n",
    "Where $x_1, x_2,... , x_5$ are non-negative integers ($ \\geq 0$)"
   ]
  },
  {
   "cell_type": "code",
   "execution_count": 2,
   "id": "bb2e7a05",
   "metadata": {},
   "outputs": [],
   "source": [
    "def create_data_model():\n",
    "    # Stores data for the problem\n",
    "    # TO DO: automate it so that is reads constraints from a file or the function takes arguments and assign it to the\n",
    "    # dictionary\n",
    "    data = {}\n",
    "    data[\"constraint_coeffs\"] = [\n",
    "        [5, 7, 9, 2, 1],\n",
    "        [18, 4, -9, 10, 12],\n",
    "        [4, 7, 3, 8, 5],\n",
    "        [5, 13, 16, 3, -7]\n",
    "    ]\n",
    "    data[\"bounds\"] = [250, 285, 211, 315]\n",
    "    data[\"obj_coeffs\"] = [7, 8, 2, 9, 6] # from the objective function\n",
    "    data[\"num_vars\"] = 5\n",
    "    data[\"num_constraints\"] = 4\n",
    "    return data"
   ]
  },
  {
   "cell_type": "code",
   "execution_count": 3,
   "id": "9eec539c",
   "metadata": {},
   "outputs": [],
   "source": [
    "data = create_data_model()"
   ]
  },
  {
   "cell_type": "code",
   "execution_count": 4,
   "id": "3c263f8f",
   "metadata": {},
   "outputs": [],
   "source": [
    "# SCIP is a third party Constraint niteger program solver https://www.scipopt.org/\n",
    "solver = pywraplp.Solver.CreateSolver(\"SCIP\") "
   ]
  },
  {
   "cell_type": "code",
   "execution_count": 5,
   "id": "b29f6674",
   "metadata": {},
   "outputs": [],
   "source": [
    "infinity = solver.infinity()\n",
    "x = {}\n",
    "for j in range(data[\"num_vars\"]):\n",
    "    x[j] = solver.IntVar(0, infinity, \"x[%i]\" % j) # f\"x{num_var}\""
   ]
  },
  {
   "cell_type": "code",
   "execution_count": 6,
   "id": "a9d78cf3",
   "metadata": {},
   "outputs": [],
   "source": [
    "# Constraints\n",
    "for i in range(data[\"num_constraints\"]):\n",
    "    constraint = solver.RowConstraint(0, data[\"bounds\"][i], \"\") # sets the bound (e.g. <= 250), 1st arg lower bound, 2nd upper\n",
    "    for j in range(data[\"num_vars\"]):\n",
    "        constraint.SetCoefficient(x[j], data[\"constraint_coeffs\"][i][j]) # sets the coefficient for each variable in row"
   ]
  },
  {
   "cell_type": "code",
   "execution_count": 7,
   "id": "d6ccc8e4",
   "metadata": {},
   "outputs": [
    {
     "data": {
      "text/plain": [
       "4"
      ]
     },
     "execution_count": 7,
     "metadata": {},
     "output_type": "execute_result"
    }
   ],
   "source": [
    "solver.NumConstraints()"
   ]
  },
  {
   "cell_type": "code",
   "execution_count": 8,
   "id": "9e6dccdc",
   "metadata": {},
   "outputs": [],
   "source": [
    "# Define objective\n",
    "objective = solver.Objective()\n",
    "for j in range(data[\"num_vars\"]):\n",
    "    objective.SetCoefficient(x[j], data[\"obj_coeffs\"][j])\n",
    "objective.SetMaximization()"
   ]
  },
  {
   "cell_type": "code",
   "execution_count": 9,
   "id": "c5ba701b",
   "metadata": {},
   "outputs": [],
   "source": [
    "status = solver.Solve()"
   ]
  },
  {
   "cell_type": "code",
   "execution_count": 10,
   "id": "f74d126e",
   "metadata": {},
   "outputs": [
    {
     "name": "stdout",
     "output_type": "stream",
     "text": [
      "Objective value = 259.99999999999966\n",
      "x0 = 8.0\n",
      "x1 = 21.0\n",
      "x2 = 0.0\n",
      "x3 = 2.0\n",
      "x4 = 3.0\n",
      "\n",
      "Problem solved in 7199 ms\n",
      "Problem solved in 58 iterations\n",
      "Problem solved in 7 branch-and-bound-nodes\n"
     ]
    }
   ],
   "source": [
    "if status == pywraplp.Solver.OPTIMAL:\n",
    "    print(f\"Objective value = {solver.Objective().Value()}\")\n",
    "    for j in range(data['num_vars']):\n",
    "        print(f\"x{j} = {x[j].solution_value()}\")\n",
    "    print()\n",
    "    print(f\"Problem solved in {solver.wall_time():d} ms\")\n",
    "    print(f\"Problem solved in {solver.iterations():d} iterations\")\n",
    "    print(f\"Problem solved in {solver.nodes():d} branch-and-bound-nodes\")\n",
    "else:\n",
    "    print(\"The problem does not have an optimal solution.\")"
   ]
  },
  {
   "cell_type": "code",
   "execution_count": 11,
   "id": "0ba917a7",
   "metadata": {},
   "outputs": [],
   "source": [
    "# Array x_ip with solution of integer program\n",
    "x_ip = np.zeros(5)\n",
    "for i in range(data['num_vars']):\n",
    "    x_ip[i] = x[i].solution_value()"
   ]
  },
  {
   "cell_type": "markdown",
   "id": "488eb391",
   "metadata": {},
   "source": [
    "# Remarks\n",
    "The example here: \\\n",
    "https://developers.google.com/optimization/mip/mip_var_array \\\n",
    "yield a different solution which may be achieved by bounding the possible values of variables x to a maximum of 16"
   ]
  },
  {
   "cell_type": "markdown",
   "id": "b74b17eb",
   "metadata": {},
   "source": [
    "# Compare with linear programming solution"
   ]
  },
  {
   "cell_type": "code",
   "execution_count": 12,
   "id": "92c11062",
   "metadata": {},
   "outputs": [],
   "source": [
    "data = create_data_model()\n",
    "solver = pywraplp.Solver.CreateSolver(\"GLOP\")"
   ]
  },
  {
   "cell_type": "code",
   "execution_count": 13,
   "id": "c78f6f8a",
   "metadata": {},
   "outputs": [],
   "source": [
    "infinity = solver.infinity()\n",
    "x = {}\n",
    "for j in range(data[\"num_vars\"]):\n",
    "    x[j] = solver.IntVar(0, infinity, \"x[%i]\" % j) # f\"x{num_var}\""
   ]
  },
  {
   "cell_type": "code",
   "execution_count": 14,
   "id": "78dcf37f",
   "metadata": {},
   "outputs": [],
   "source": [
    "# Constraints\n",
    "for i in range(data[\"num_constraints\"]):\n",
    "    constraint = solver.RowConstraint(0, data[\"bounds\"][i], \"\") # sets the bound (e.g. <= 250), 1st arg lower bound, 2nd upper\n",
    "    for j in range(data[\"num_vars\"]):\n",
    "        constraint.SetCoefficient(x[j], data[\"constraint_coeffs\"][i][j]) # sets the coefficient for each variable in row"
   ]
  },
  {
   "cell_type": "code",
   "execution_count": 15,
   "id": "8bdfb60a",
   "metadata": {},
   "outputs": [
    {
     "data": {
      "text/plain": [
       "4"
      ]
     },
     "execution_count": 15,
     "metadata": {},
     "output_type": "execute_result"
    }
   ],
   "source": [
    "solver.NumConstraints()"
   ]
  },
  {
   "cell_type": "code",
   "execution_count": 16,
   "id": "c3575427",
   "metadata": {},
   "outputs": [],
   "source": [
    "# Define objective\n",
    "objective = solver.Objective()\n",
    "for j in range(data[\"num_vars\"]):\n",
    "    objective.SetCoefficient(x[j], data[\"obj_coeffs\"][j])\n",
    "objective.SetMaximization()"
   ]
  },
  {
   "cell_type": "code",
   "execution_count": 17,
   "id": "47548834",
   "metadata": {},
   "outputs": [],
   "source": [
    "status = solver.Solve()"
   ]
  },
  {
   "cell_type": "code",
   "execution_count": 18,
   "id": "f7f064c2",
   "metadata": {},
   "outputs": [
    {
     "name": "stdout",
     "output_type": "stream",
     "text": [
      "Objective value = 262.6552567237163\n",
      "x0 = 8.451100244498777\n",
      "x1 = 22.84290953545232\n",
      "x2 = 0.0\n",
      "x3 = 0.0\n",
      "x4 = 3.459046454767721\n",
      "\n",
      "Problem solved in 2241 ms\n",
      "Problem solved in 4 iterations\n",
      "Problem solved in -1 branch-and-bound-nodes\n"
     ]
    }
   ],
   "source": [
    "if status == pywraplp.Solver.OPTIMAL:\n",
    "    print(f\"Objective value = {solver.Objective().Value()}\")\n",
    "    for j in range(data['num_vars']):\n",
    "        print(f\"x{j} = {x[j].solution_value()}\")\n",
    "    print()\n",
    "    print(f\"Problem solved in {solver.wall_time():d} ms\")\n",
    "    print(f\"Problem solved in {solver.iterations():d} iterations\")\n",
    "    print(f\"Problem solved in {solver.nodes():d} branch-and-bound-nodes\")\n",
    "else:\n",
    "    print(\"The problem does not have an optimal solution.\")"
   ]
  },
  {
   "cell_type": "code",
   "execution_count": 19,
   "id": "b14000a9",
   "metadata": {
    "scrolled": true
   },
   "outputs": [
    {
     "name": "stdout",
     "output_type": "stream",
     "text": [
      "8.451100244498777\n",
      "22.84290953545232\n",
      "0.0\n",
      "0.0\n",
      "3.459046454767721\n"
     ]
    }
   ],
   "source": [
    "for i in range(data[\"num_vars\"]):\n",
    "    print(x[i].solution_value())"
   ]
  },
  {
   "cell_type": "markdown",
   "id": "2d9ebf9d",
   "metadata": {},
   "source": [
    "# Check solutions"
   ]
  },
  {
   "cell_type": "code",
   "execution_count": 20,
   "id": "1a4771e2",
   "metadata": {},
   "outputs": [],
   "source": [
    "def check_solution(solution):\n",
    "    coeffs = np.array([\n",
    "        [5, 7, 9, 2, 1],\n",
    "        [18, 4, -9, 10, 12],\n",
    "        [4, 7, 3, 8, 5],\n",
    "        [5, 13, 16, 3, -7]\n",
    "    ])\n",
    "    \n",
    "    data[\"bounds\"] = [250, 285, 211, 315]\n",
    "    return coeffs@solution"
   ]
  },
  {
   "cell_type": "code",
   "execution_count": 21,
   "id": "30008f8f",
   "metadata": {},
   "outputs": [],
   "source": [
    "# Array x_lp with solution of linear program\n",
    "x_lp = np.zeros(5)\n",
    "for i in range(data['num_vars']):\n",
    "    x_lp[i] = x[i].solution_value()"
   ]
  },
  {
   "cell_type": "code",
   "execution_count": 22,
   "id": "37594905",
   "metadata": {},
   "outputs": [
    {
     "data": {
      "text/plain": [
       "array([194., 284., 210., 298.])"
      ]
     },
     "execution_count": 22,
     "metadata": {},
     "output_type": "execute_result"
    }
   ],
   "source": [
    "check_solution(x_ip)"
   ]
  },
  {
   "cell_type": "code",
   "execution_count": 23,
   "id": "3d303001",
   "metadata": {},
   "outputs": [
    {
     "data": {
      "text/plain": [
       "array([205.61491443, 285.        , 211.        , 315.        ])"
      ]
     },
     "execution_count": 23,
     "metadata": {},
     "output_type": "execute_result"
    }
   ],
   "source": [
    "check_solution(x_lp)"
   ]
  },
  {
   "cell_type": "code",
   "execution_count": 24,
   "id": "039eb992",
   "metadata": {
    "scrolled": false
   },
   "outputs": [
    {
     "data": {
      "text/html": [
       "<div>\n",
       "<style scoped>\n",
       "    .dataframe tbody tr th:only-of-type {\n",
       "        vertical-align: middle;\n",
       "    }\n",
       "\n",
       "    .dataframe tbody tr th {\n",
       "        vertical-align: top;\n",
       "    }\n",
       "\n",
       "    .dataframe thead th {\n",
       "        text-align: right;\n",
       "    }\n",
       "</style>\n",
       "<table border=\"1\" class=\"dataframe\">\n",
       "  <thead>\n",
       "    <tr style=\"text-align: right;\">\n",
       "      <th></th>\n",
       "      <th>Integer</th>\n",
       "      <th>Linear</th>\n",
       "    </tr>\n",
       "  </thead>\n",
       "  <tbody>\n",
       "    <tr>\n",
       "      <th>0</th>\n",
       "      <td>8.0</td>\n",
       "      <td>8.451100</td>\n",
       "    </tr>\n",
       "    <tr>\n",
       "      <th>1</th>\n",
       "      <td>21.0</td>\n",
       "      <td>22.842910</td>\n",
       "    </tr>\n",
       "    <tr>\n",
       "      <th>2</th>\n",
       "      <td>0.0</td>\n",
       "      <td>0.000000</td>\n",
       "    </tr>\n",
       "    <tr>\n",
       "      <th>3</th>\n",
       "      <td>2.0</td>\n",
       "      <td>0.000000</td>\n",
       "    </tr>\n",
       "    <tr>\n",
       "      <th>4</th>\n",
       "      <td>3.0</td>\n",
       "      <td>3.459046</td>\n",
       "    </tr>\n",
       "  </tbody>\n",
       "</table>\n",
       "</div>"
      ],
      "text/plain": [
       "   Integer     Linear\n",
       "0      8.0   8.451100\n",
       "1     21.0  22.842910\n",
       "2      0.0   0.000000\n",
       "3      2.0   0.000000\n",
       "4      3.0   3.459046"
      ]
     },
     "execution_count": 24,
     "metadata": {},
     "output_type": "execute_result"
    }
   ],
   "source": [
    "solutions = {'Integer': x_ip, 'Linear': x_lp}\n",
    "df = pd.DataFrame(solutions)\n",
    "df"
   ]
  },
  {
   "cell_type": "markdown",
   "id": "cde542d6",
   "metadata": {},
   "source": [
    "# Conclusions"
   ]
  },
  {
   "cell_type": "markdown",
   "id": "75e2f534",
   "metadata": {},
   "source": [
    "The bounds were 250, 285, 211, 315 and both linear and integer programming solutions fulfilled the constraints. Clearly the linear programming where the solution is a real number doesn't give the optimal solution when we are looking for integer solution. Rounding the numbers of linear programming solution doesn't approximate the integer programming results. Thus, it is required to use packages or software suitable for Integer programming.\n"
   ]
  },
  {
   "cell_type": "code",
   "execution_count": null,
   "id": "5b994e94",
   "metadata": {},
   "outputs": [],
   "source": []
  }
 ],
 "metadata": {
  "kernelspec": {
   "display_name": "Python 3",
   "language": "python",
   "name": "python3"
  },
  "language_info": {
   "codemirror_mode": {
    "name": "ipython",
    "version": 3
   },
   "file_extension": ".py",
   "mimetype": "text/x-python",
   "name": "python",
   "nbconvert_exporter": "python",
   "pygments_lexer": "ipython3",
   "version": "3.9.12"
  }
 },
 "nbformat": 4,
 "nbformat_minor": 5
}
